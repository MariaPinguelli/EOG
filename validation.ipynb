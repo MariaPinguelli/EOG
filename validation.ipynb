{
 "cells": [
  {
   "cell_type": "markdown",
   "metadata": {},
   "source": [
    "## Validação dos dados EOG\n",
    "\n",
    "Neste notebook está incluído os seguintes passos:\n",
    "- Aplicação de características;\n",
    "- Criação do vetor de características;\n",
    "- Normalização de dados;\n",
    "- Seleção de características;\n",
    "- Classificação dos dados."
   ]
  },
  {
   "cell_type": "markdown",
   "metadata": {},
   "source": [
    "Uma característica é uma propriedade individual mensurável ou característica de um fenômeno que está sendo observado. Em nosso caso de EOG, uma característica pode ser extraída no domínio do tempo ou no domínio da frequência. As características a seguir foram retiradas do artigo *EMG Feature Extraction for Tolerance of White Gaussian Noise* \\[1\\]."
   ]
  },
  {
   "cell_type": "markdown",
   "metadata": {},
   "source": [
    "#### Domínio do tempo\n",
    "\n",
    "1. Willison Amplitude (WAMP): \n",
    "\n",
    "    > $ \\sum_{i=1}^{N-1}f(|x_i - x_{i+1}|) $\n",
    "    \n",
    "    > $ f(x) = \\begin{cases} 1 & \\text{if } x \\gt threshold \\\\ 0 & \\text{otherwise} \\end{cases} $\n",
    "\n",
    "2. Variance of EMG (VAR)\n",
    "\n",
    "    > $ \\frac{1}{N-1}\\sum_{i=1}^{N}x_i^2 $\n",
    "\n",
    "3. Root Mean Square (RMS)\n",
    "\n",
    "    > $ \\sqrt{\\frac{1}{N}\\sum_{i=1}^{N}|x_i|^2} $\n",
    "\n",
    "4. Waveform Length (WL)\n",
    "    \n",
    "    > $ \\sum_{i=1}^{N-1}|x_{i+1} - x_i| $\n",
    "\n",
    "5. Zero Crossing (ZC)\n",
    "\n",
    "    > $ \\sum_{i=1}^{N}sgn(x_i) $\n",
    "    \n",
    "    > $ sgn(x) = \\begin{cases} 1 & \\text{if } x_i * x_{i+1} \\leq 0 \\\\ 0 & \\text{otherwise} \\end{cases} $"
   ]
  },
  {
   "cell_type": "markdown",
   "metadata": {},
   "source": [
    "#### Domínio da frequência\n",
    "\n",
    "1. Median Frequency (FMD)\n",
    "\n",
    "    > $ \\frac{1}{2}\\sum_{j=1}^{M}PSD_j $\n",
    "\n",
    "2. Mean Frequency (FMN)\n",
    "\n",
    "    > $\\sum_{j=1}^{M}f_j PSD_j / \\sum_{j=1}^{M}PSD_j$\n",
    "    \n",
    "    > $ f_j = j * SampleRate / 2 * M $\n",
    "\n",
    "3. Modified Median Frequency (MMDF)\n",
    "\n",
    "    > $ \\frac{1}{2}\\sum_{j=1}^{M}A_j $\n",
    "    \n",
    "    > $ A_j = Amplitude\\ do\\ espectro\\ j $\n",
    "\n",
    "4. Modified Frequency Mean (MMNF)\n",
    "\n",
    "    > $ \\sum_{j=1}^{M}f_jAj / \\sum_{j=1}^{M}Aj $\n",
    "\n",
    "\n",
    "\\[1\\] Phinyomark, Angkoon & Limsakul, Chusak & Phukpattaranont, P.. (2008). EMG Feature Extraction for Tolerance of White Gaussian Noise.\n",
    "[Disponível neste link](https://www.researchgate.net/publication/263765853_EMG_Feature_Extraction_for_Tolerance_of_White_Gaussian_Noise)"
   ]
  },
  {
   "cell_type": "markdown",
   "metadata": {},
   "source": [
    "**Tarefa 1**: Descrever as características de acordo com o artigo citado e outros disponíveis relacionados. O que está querendo \"ser visto\" em cada característica? Qual é o significado matemático de cada uma delas?"
   ]
  },
  {
   "cell_type": "markdown",
   "metadata": {},
   "source": [
    "#### Domínio do tempo\n",
    "\n",
    "1. Willison Amplitude (WAMP): é o número de contagens para cada mudançais the number of counts for each change in the EMG signal\n",
    "amplitude that exceeds a predefined threshold where threshold value is 10 mV.\n",
    "\n",
    "2. Variance of EMG (VAR): expressa o poder do sinal EMG como caracteristica utilizavel.\n",
    "\n",
    "3. Root Mean Square (RMS): RMS representa caracteristicas no dominio do tempo baseado na amplitude do sinal como valor absoluto médio, inclinação média do valor absoluto, e variação.\n",
    "\n",
    "4. Waveform Length (WL): é o cumprimento cumulativo da onda durante o segmento de tempo. WL é relacionado a amplitude, frequência e tempo da onda.\n",
    "\n",
    "5. Zero Crossing (ZC): é o número de vezes que os sinais EMG passam de 0. O valor limit é 20 mV. Essas características fornecem uma estimativa aproximada das propriedades no dominio da frequência."
   ]
  },
  {
   "cell_type": "markdown",
   "metadata": {},
   "source": [
    "#### Domínio da frequência\n",
    "\n",
    "1. Median Frequency (FMD): é a frequência na qual o espectro é dividido em duas regiões com potências iguais.\n",
    "\n",
    "2. Mean Frequency (FMN): é a frequência média.\n",
    "\n",
    "3. Modified Median Frequency (MMDF): é bem similar ao método FMD, mas é baseado no espectro de amplitude, não no PSD.\n",
    "\n",
    "4. Modified Frequency Mean (MMNF): é a frequência média baseada no espectro da amplitude diferente do FMN."
   ]
  },
  {
   "cell_type": "markdown",
   "metadata": {},
   "source": [
    "#### Aplicando as características\n",
    "\n",
    "É necessário implementar as características, geralmente em formato de funções ou métodos, para que seja possível aplicar tais funções aos dados de entrada e obter as características resultantes. A seguir temos a implementação das características `VAR` & `RMS` (domínio do tempo) e `FDM` & `MMDF` (domínio da frequência)."
   ]
  },
  {
   "cell_type": "code",
   "execution_count": 581,
   "metadata": {},
   "outputs": [],
   "source": [
    "# Libraries\n",
    "import numpy as np\n",
    "from sklearn.preprocessing import StandardScaler, LabelEncoder, MinMaxScaler\n",
    "from sklearn.feature_selection import SelectKBest, chi2, f_classif\n",
    "from sklearn.model_selection import train_test_split\n",
    "from sklearn.svm import SVC\n",
    "from sklearn.metrics import accuracy_score"
   ]
  },
  {
   "cell_type": "code",
   "execution_count": 582,
   "metadata": {},
   "outputs": [
    {
     "data": {
      "text/plain": [
       "((28, 2, 4, 64), (28, 2, 7, 33))"
      ]
     },
     "execution_count": 582,
     "metadata": {},
     "output_type": "execute_result"
    }
   ],
   "source": [
    "# Load\n",
    "data_time = np.load(\"dataset/data_time.npy\")\n",
    "data_freq = np.load(\"dataset/data_freq.npy\")\n",
    "data_time.shape, data_freq.shape"
   ]
  },
  {
   "cell_type": "markdown",
   "metadata": {},
   "source": [
    "**Tarefa 2**: Implemente todas as características apresentadas neste tutorial em formato de funções. Sinta-se livre também para buscar e implementar características além das apresentadas, citando as fontes de tais características.\n",
    "\n",
    "\n",
    "#### Vetor de características\n",
    "\n",
    "Ao final da implementação e seleção das características, deve ser escolhida as características e então teremos um vetor com todas elas implementadas.\n",
    "\n",
    "O vetor de características estará organizado da seguinte forma (exemplo p/ VAR, RMS, RDM e MMDF):\n",
    "\n",
    "| ID sample | VAR1 | RMS1 | FMD1 | MMDF1 | VAR2 | RMS2 | FMD2 | MMDF2 | Classe |\n",
    "|:---------:|:----:|:----:|:----:|:-----:|------|------|------|-------|:------:|\n",
    "|     1     |  v1  |  v1  |  v1  |   v1  | v1   | v1   | v1   | v1    |    0   |\n",
    "|     2     |  v2  |  v2  |  v2  |   v2  | v2   | v2   | v2   | v2    |    0   |\n",
    "|    ...    |  ... |  ... |  ... |  ...  | ...  | ...  | ...  | ...   |   ...  |\n",
    "|     N     |  vN  |  vN  |  vN  |   vN  | vN   | vN   | vN   | vN    |    7   |\n",
    "\n",
    "#### Implementação do vetor"
   ]
  },
  {
   "cell_type": "code",
   "execution_count": 583,
   "metadata": {},
   "outputs": [],
   "source": [
    "# Funções auxiliares das funções de extração de características\n",
    "def PSD(w):\n",
    "    ''' definição da função PSD para o sinal no domínio da frequência '''\n",
    "    return np.abs(w) ** 2\n",
    "\n",
    "def fj(w):\n",
    "    sample_rate = np.arange(1, w.shape[-1]+1) * 200\n",
    "    return sample_rate / 2 * w.shape[-1]\n",
    "\n",
    "# Funções de extração de características\n",
    "def wamp(time, threshold):\n",
    "    return np.sum(np.abs(np.diff(time)) > threshold, axis=-1)\n",
    "\n",
    "def var(time):\n",
    "    return np.sum(time ** 2, axis=-1) / (np.prod(time.shape) - 1)\n",
    "\n",
    "def rms(time):\n",
    "    return np.sqrt(np.sum(np.abs(time) ** 2, axis=-1) / (np.prod(time.shape) - 1))\n",
    "\n",
    "def wl(x):\n",
    "    return np.sum(np.abs(np.diff(x, axis=-1)), axis=-1)\n",
    "\n",
    "def zc(x):\n",
    "    return np.count_nonzero(np.diff(np.sign(x), axis=-1) != 0, axis=-1)\n",
    "\n",
    "def fmd(w):\n",
    "    return np.sum(PSD(w), axis=-1) / 2\n",
    "\n",
    "def fmn(w):\n",
    "    return np.sum(fj(w) * PSD(w)) / fmd(w)*2\n",
    "\n",
    "def mmdf(w):\n",
    "    return np.sum(np.abs(w), axis=-1) / 2\n",
    "\n",
    "def mmnf(w):\n",
    "    return np.sum(fj(w) * np.abs(w),  axis=-1) / mmdf(w)*2"
   ]
  },
  {
   "cell_type": "code",
   "execution_count": 584,
   "metadata": {},
   "outputs": [
    {
     "data": {
      "text/plain": [
       "((28, 2, 4),\n",
       " (28, 2, 4),\n",
       " (28, 2, 4),\n",
       " (28, 2, 4),\n",
       " (28, 2, 4),\n",
       " (28, 2, 7),\n",
       " (28, 2, 7),\n",
       " (28, 2, 7),\n",
       " (28, 2, 7))"
      ]
     },
     "execution_count": 584,
     "metadata": {},
     "output_type": "execute_result"
    }
   ],
   "source": [
    "# Aplicando características\n",
    "data_wamp = wamp(data_time, 1)\n",
    "data_var = var(data_time)\n",
    "data_rms = rms(data_time)\n",
    "data_wl = wl(data_time)\n",
    "data_zc = zc(data_time)\n",
    "\n",
    "data_fmd = fmd(data_freq)\n",
    "data_fmn = fmn(data_freq)\n",
    "data_mmdf = mmdf(data_freq)\n",
    "data_mmnf = mmnf(data_freq)\n",
    "\n",
    "data_wamp.shape, data_var.shape, data_rms.shape, data_wl.shape, data_zc.shape, data_fmd.shape, data_fmn.shape, data_mmdf.shape, data_mmnf.shape"
   ]
  },
  {
   "cell_type": "code",
   "execution_count": 585,
   "metadata": {},
   "outputs": [
    {
     "name": "stdout",
     "output_type": "stream",
     "text": [
      "4\n"
     ]
    },
    {
     "data": {
      "text/plain": [
       "(112, 18)"
      ]
     },
     "execution_count": 585,
     "metadata": {},
     "output_type": "execute_result"
    }
   ],
   "source": [
    "# União do vetor de características inicial\n",
    "size = data_wamp.shape[2]\n",
    "print(size)\n",
    "\n",
    "features = np.array([\n",
    "    data_wamp, data_var, data_rms, data_wl, data_zc,\n",
    "    data_fmd[:,:,:size], data_fmn[:,:,:size], data_mmdf[:,:,:size], data_mmnf[:,:,:size]\n",
    "])\n",
    "\n",
    "# Organização das dimensões\n",
    "features = features.transpose(1, 3, 0, 2)\n",
    "\n",
    "# Criar vetor de características definitivo\n",
    "features = features.reshape(features.shape[0] * features.shape[1],\n",
    "                            features.shape[2] * features.shape[3])\n",
    "\n",
    "features.shape"
   ]
  },
  {
   "cell_type": "markdown",
   "metadata": {},
   "source": [
    "*Tarefa 3*: Realização da normalização dos dados utilizando ferramentas já conhecidas"
   ]
  },
  {
   "cell_type": "code",
   "execution_count": 586,
   "metadata": {},
   "outputs": [
    {
     "data": {
      "text/plain": [
       "112"
      ]
     },
     "execution_count": 586,
     "metadata": {},
     "output_type": "execute_result"
    }
   ],
   "source": [
    "labels_str = ['dir', 'esq', 'cima', 'baixo', 'cima', 'baixo',\n",
    "'baixo', 'esq', 'dir', 'baixo', 'dir', 'dir', 'esq', 'cima',\n",
    "'baixo', 'cima', 'esq', 'dir', 'cima', 'esq', 'baixo', 'esq',\n",
    "'dir', 'esq', 'cima', 'dir', 'cima', 'baixo']\n",
    "\n",
    "# transformando para numérico\n",
    "lab_dict = {'dir': 0, 'esq': 1, 'cima': 2, 'baixo': 3}\n",
    "labels_num = [lab_dict[item] for item in labels_str]\n",
    "\n",
    "# criação do vetor de labels final\n",
    "labels = np.repeat(labels_num, int(features.shape[0] / len(labels_num)))\n",
    "len(labels)"
   ]
  },
  {
   "cell_type": "code",
   "execution_count": 587,
   "metadata": {},
   "outputs": [
    {
     "data": {
      "text/plain": [
       "((112, 18), (112,))"
      ]
     },
     "execution_count": 587,
     "metadata": {},
     "output_type": "execute_result"
    }
   ],
   "source": [
    "# Aplicando normalização\n",
    "data_final = StandardScaler().fit_transform(features)\n",
    "labels_final = LabelEncoder().fit_transform(labels)\n",
    "\n",
    "data_final = MinMaxScaler().fit_transform(data_final)\n",
    "data_final.shape, labels_final.shape"
   ]
  },
  {
   "cell_type": "markdown",
   "metadata": {},
   "source": [
    "*Tarefa 4*: Realização da seleção de características, utilizando ferramentas já conhecidas\n",
    "*Tarefa 5*: Realização da classificação utilizando `SVM`."
   ]
  },
  {
   "cell_type": "code",
   "execution_count": 588,
   "metadata": {},
   "outputs": [
    {
     "name": "stdout",
     "output_type": "stream",
     "text": [
      "K: 1 | Accuracy: 43.48 %\n",
      "K: 2 | Accuracy: 52.17 %\n",
      "K: 3 | Accuracy: 56.52 %\n",
      "K: 4 | Accuracy: 56.52 %\n",
      "K: 5 | Accuracy: 78.26 %\n",
      "K: 6 | Accuracy: 69.57 %\n",
      "K: 7 | Accuracy: 69.57 %\n",
      "K: 8 | Accuracy: 82.61 %\n",
      "K: 9 | Accuracy: 78.26 %\n",
      "K: 10 | Accuracy: 65.22 %\n",
      "K: 11 | Accuracy: 69.57 %\n",
      "K: 12 | Accuracy: 69.57 %\n",
      "K: 13 | Accuracy: 73.91 %\n",
      "K: 14 | Accuracy: 69.57 %\n",
      "K: 15 | Accuracy: 60.87 %\n",
      "K: 16 | Accuracy: 65.22 %\n",
      "K: 17 | Accuracy: 69.57 %\n",
      "K: 18 | Accuracy: 65.22 %\n"
     ]
    }
   ],
   "source": [
    "for k in range(1, data_final.shape[1]+1):\n",
    "    # Aplicando seleção de características\n",
    "    new_data = SelectKBest(f_classif, k=k).fit_transform(data_final, labels_final)\n",
    "\n",
    "    # Aplicando a classificação\n",
    "    X_train_full, X_test_full, y_train_full, y_test_full = train_test_split(new_data, labels_final, test_size=0.2, random_state=0)\n",
    "    # print(X_train_full.shape, labels_final.shape)\n",
    "    svm = SVC(kernel='linear', C=10, probability=True).fit(X_train_full, y_train_full)\n",
    "    y_full_pred = svm.predict(X_test_full)\n",
    "\n",
    "    print(\"K: %d | Accuracy: %.2f %%\" % (k, accuracy_score(y_test_full, y_full_pred) * 100))"
   ]
  }
 ],
 "metadata": {
  "kernelspec": {
   "display_name": "venv",
   "language": "python",
   "name": "python3"
  },
  "language_info": {
   "codemirror_mode": {
    "name": "ipython",
    "version": 3
   },
   "file_extension": ".py",
   "mimetype": "text/x-python",
   "name": "python",
   "nbconvert_exporter": "python",
   "pygments_lexer": "ipython3",
   "version": "3.11.3"
  }
 },
 "nbformat": 4,
 "nbformat_minor": 2
}
