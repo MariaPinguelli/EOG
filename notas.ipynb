{
 "cells": [
  {
   "cell_type": "markdown",
   "metadata": {},
   "source": [
    "Preparação\n",
    "- Carregar dataset\n",
    "- aplicar filtros temporais\n",
    "- realizar segmentações (tempo/frequência)\n",
    "\n",
    "Validação\n",
    "- criar vetores de características: VAR, RMS, ... (tempo) e FMD, FMN, ... (frequência)\n",
    "- aplicar um método de seleção de característica (p.e. seleção kbest)\n",
    "- classificação (SVM)"
   ]
  }
 ],
 "metadata": {
  "kernelspec": {
   "display_name": "Python 3",
   "language": "python",
   "name": "python3"
  },
  "language_info": {
   "codemirror_mode": {
    "name": "ipython",
    "version": 3
   },
   "file_extension": ".py",
   "mimetype": "text/x-python",
   "name": "python",
   "nbconvert_exporter": "python",
   "pygments_lexer": "ipython3",
   "version": "3.11.3"
  }
 },
 "nbformat": 4,
 "nbformat_minor": 2
}
